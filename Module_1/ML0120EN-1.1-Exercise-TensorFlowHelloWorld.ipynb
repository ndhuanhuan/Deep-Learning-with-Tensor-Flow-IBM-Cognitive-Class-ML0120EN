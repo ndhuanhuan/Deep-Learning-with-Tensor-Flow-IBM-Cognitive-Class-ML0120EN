{
 "cells": [
  {
   "cell_type": "markdown",
   "metadata": {},
   "source": [
    "![Big Data University](https://ibm.box.com/shared/static/jvcqp2iy2jlx2b32rmzdt0tx8lvxgzkp.png)"
   ]
  },
  {
   "cell_type": "markdown",
   "metadata": {},
   "source": [
    "# <center> \"Hello World\" in TensorFlow  - Exercise Notebook</center>"
   ]
  },
  {
   "cell_type": "markdown",
   "metadata": {},
   "source": [
    "#### Before everything, let's import the TensorFlow library"
   ]
  },
  {
   "cell_type": "code",
   "execution_count": 1,
   "metadata": {
    "collapsed": true
   },
   "outputs": [],
   "source": [
    "%matplotlib inline\n",
    "import tensorflow as tf"
   ]
  },
  {
   "cell_type": "markdown",
   "metadata": {},
   "source": [
    "### First, try to add the two constants and print the result."
   ]
  },
  {
   "cell_type": "code",
   "execution_count": 2,
   "metadata": {
    "collapsed": true
   },
   "outputs": [],
   "source": [
    "a = tf.constant([5])\n",
    "b = tf.constant([2])"
   ]
  },
  {
   "cell_type": "markdown",
   "metadata": {},
   "source": [
    "create another TensorFlow object applying the sum (+) operation:"
   ]
  },
  {
   "cell_type": "code",
   "execution_count": 3,
   "metadata": {
    "collapsed": true
   },
   "outputs": [],
   "source": [
    "#Your code goes here\n",
    "c = a+b\n",
    "c = tf.add(a,b)"
   ]
  },
  {
   "cell_type": "markdown",
   "metadata": {},
   "source": [
    "<div align=\"right\">\n",
    "<a href=\"#sum1\" class=\"btn btn-default\" data-toggle=\"collapse\">Click here for the solution #1</a>\n",
    "<a href=\"#sum2\" class=\"btn btn-default\" data-toggle=\"collapse\">Click here for the solution #2</a>\n",
    "</div>\n",
    "<div id=\"sum1\" class=\"collapse\">\n",
    "```\n",
    "c=a+b\n",
    "```\n",
    "</div>\n",
    "<div id=\"sum2\" class=\"collapse\">\n",
    "```\n",
    "c=tf.add(a,b)\n",
    "```\n",
    "</div>"
   ]
  },
  {
   "cell_type": "code",
   "execution_count": 4,
   "metadata": {
    "collapsed": false
   },
   "outputs": [
    {
     "name": "stdout",
     "output_type": "stream",
     "text": [
      "The addition of this two constants is: [7]\n"
     ]
    }
   ],
   "source": [
    "with tf.Session() as session:\n",
    "    result = session.run(c)\n",
    "    print \"The addition of this two constants is: {0}\".format(result)"
   ]
  },
  {
   "cell_type": "markdown",
   "metadata": {},
   "source": [
    "---\n",
    "### Now let's try to multiply them."
   ]
  },
  {
   "cell_type": "code",
   "execution_count": 5,
   "metadata": {
    "collapsed": true
   },
   "outputs": [],
   "source": [
    "# Your code goes here. Use the multiplication operator.\n",
    "c=a*b\n",
    "c=tf.multiply(a,b)\n"
   ]
  },
  {
   "cell_type": "markdown",
   "metadata": {},
   "source": [
    "<div align=\"right\">\n",
    "<a href=\"#mult1\" class=\"btn btn-default\" data-toggle=\"collapse\">Click here for the solution #1</a>\n",
    "<a href=\"#mult2\" class=\"btn btn-default\" data-toggle=\"collapse\">Click here for the solution #2</a>\n",
    "</div>\n",
    "<div id=\"mult1\" class=\"collapse\">\n",
    "```\n",
    "c=a*b\n",
    "```\n",
    "</div>\n",
    "<div id=\"mult2\" class=\"collapse\">\n",
    "```\n",
    "c=tf.multiply(a,b)\n",
    "```\n",
    "</div>"
   ]
  },
  {
   "cell_type": "code",
   "execution_count": 6,
   "metadata": {
    "collapsed": false
   },
   "outputs": [
    {
     "name": "stdout",
     "output_type": "stream",
     "text": [
      "The Multiplication of this two constants is: [10]\n"
     ]
    }
   ],
   "source": [
    "with tf.Session() as session:\n",
    "    result = session.run(c)\n",
    "    print \"The Multiplication of this two constants is: {0}\".format(result)"
   ]
  },
  {
   "cell_type": "markdown",
   "metadata": {},
   "source": [
    "### Multiplication: element-wise or matrix multiplication\n",
    "\n",
    "Let's practice the different ways to multiply matrices:\n",
    "- **Element-wise** multiplication in the **first operation** ;\n",
    "- **Matrix multiplication** on the **second operation**  ;"
   ]
  },
  {
   "cell_type": "code",
   "execution_count": 7,
   "metadata": {
    "collapsed": true,
    "scrolled": true
   },
   "outputs": [],
   "source": [
    "matrixA = tf.constant([[2,3],[3,4]])\n",
    "matrixB = tf.constant([[2,3],[3,4]])"
   ]
  },
  {
   "cell_type": "code",
   "execution_count": null,
   "metadata": {
    "collapsed": true
   },
   "outputs": [],
   "source": [
    "# Your code goes here\n",
    "\n",
    "\n"
   ]
  },
  {
   "cell_type": "markdown",
   "metadata": {},
   "source": [
    "<div align=\"right\">\n",
    "<a href=\"#matmul1\" class=\"btn btn-default\" data-toggle=\"collapse\">Click here for the solution</a>\n",
    "</div>\n",
    "<div id=\"matmul1\" class=\"collapse\">\n",
    "```\n",
    "first_operation=tf.multiply(matrixA, matrixB)\n",
    "second_operation=tf.matmul(matrixA,matrixB)\n",
    "```\n",
    "</div>"
   ]
  },
  {
   "cell_type": "code",
   "execution_count": null,
   "metadata": {
    "collapsed": true
   },
   "outputs": [],
   "source": [
    "with tf.Session() as session:\n",
    "    result = session.run(first_operation)\n",
    "    print \"Element-wise multiplication: \\n\", result\n",
    "\n",
    "    result = session.run(second_operation)\n",
    "    print \"Matrix Multiplication: \\n\", result"
   ]
  },
  {
   "cell_type": "markdown",
   "metadata": {},
   "source": [
    "---\n",
    "### Modify the value of variable b to the value in constant a: "
   ]
  },
  {
   "cell_type": "code",
   "execution_count": null,
   "metadata": {
    "collapsed": true,
    "scrolled": true
   },
   "outputs": [],
   "source": [
    "a=tf.constant(1000)\n",
    "b=tf.Variable(0)\n",
    "init_op = tf.global_variables_initializer()"
   ]
  },
  {
   "cell_type": "code",
   "execution_count": null,
   "metadata": {
    "collapsed": true
   },
   "outputs": [],
   "source": [
    "# Your code goes here\n",
    "\n",
    "\n",
    "\n",
    "\n"
   ]
  },
  {
   "cell_type": "markdown",
   "metadata": {},
   "source": [
    "<div align=\"right\">\n",
    "<a href=\"#assign\" class=\"btn btn-default\" data-toggle=\"collapse\">Click here for the solution</a>\n",
    "</div>\n",
    "<div id=\"assign\" class=\"collapse\">\n",
    "```\n",
    "a=tf.constant(1000)\n",
    "b=tf.Variable(0)\n",
    "init_op = tf.global_variables_initializer()\n",
    "update = tf.assign(b,a)\n",
    "with tf.Session() as session:\n",
    "    session.run(init_op) \n",
    "    session.run(update) \n",
    "    print(session.run(b))\n",
    "```\n",
    "</div>"
   ]
  },
  {
   "cell_type": "markdown",
   "metadata": {},
   "source": [
    "---\n",
    "### Fibonacci sequence\n",
    "\n",
    "Now try to do something more advanced. Try to create a __fibonnacci sequence__ and print the first few values using TensorFlow:</b></h3>\n",
    "\n",
    "If you don't know, the fibonnacci sequence is defined by the equation: <br><br>\n",
    "$$F_{n} = F_{n-1} + F_{n-2}$$<br>\n",
    "Resulting in a sequence like: 1,1,2,3,5,8,13,21...\n",
    "\n",
    "\n"
   ]
  },
  {
   "cell_type": "code",
   "execution_count": null,
   "metadata": {
    "collapsed": true
   },
   "outputs": [],
   "source": [
    "\n",
    "\n",
    "\n",
    "\n",
    "\n"
   ]
  },
  {
   "cell_type": "markdown",
   "metadata": {},
   "source": [
    "<div align=\"right\">\n",
    "<a href=\"#fibonacci-solution\" class=\"btn btn-default\" data-toggle=\"collapse\">Click here for the solution #1</a>\n",
    "<a href=\"#fibonacci-solution2\" class=\"btn btn-default\" data-toggle=\"collapse\">Click here for the solution #2</a>\n",
    "</div>\n",
    "\n",
    "\n",
    "<div id=\"fibonacci-solution\" class=\"collapse\">\n",
    "```\n",
    "a=tf.Variable(0)\n",
    "b=tf.Variable(1)\n",
    "temp=tf.Variable(0)\n",
    "c=a+b\n",
    "\n",
    "update1=tf.assign(temp,c)\n",
    "update2=tf.assign(a,b)\n",
    "update3=tf.assign(b,temp)\n",
    "\n",
    "init_op = tf.initialize_all_variables()\n",
    "with tf.Session() as s:\n",
    "\ts.run(init_op)\n",
    "\tfor _ in range(15):\n",
    "\t\tprint(s.run(a))\n",
    "\t\ts.run(update1)\n",
    "\t\ts.run(update2)\n",
    "\t\ts.run(update3)\n",
    "```\n",
    "</div>\n",
    "\n",
    "\n",
    "<div id=\"fibonacci-solution2\" class=\"collapse\">\n",
    "```\n",
    "f = [tf.constant(1),tf.constant(1)]\n",
    "\n",
    "for i in range(2,10):\n",
    "\ttemp = f[i-1] + f[i-2]\n",
    "\tf.append(temp)\n",
    "\n",
    "with tf.Session() as sess:\n",
    "\tresult = sess.run(f)\n",
    "\tprint result\n",
    "```\n",
    "</div>"
   ]
  },
  {
   "cell_type": "markdown",
   "metadata": {},
   "source": [
    "---\n",
    "\n",
    "### Now try to create your own placeholders and define any kind of operation between them:\n",
    "\n"
   ]
  },
  {
   "cell_type": "code",
   "execution_count": null,
   "metadata": {
    "collapsed": true
   },
   "outputs": [],
   "source": [
    "# Your code goes here\n",
    "\n",
    "\n"
   ]
  },
  {
   "cell_type": "markdown",
   "metadata": {},
   "source": [
    "<div align=\"right\">\n",
    "<a href=\"#placeholder\" class=\"btn btn-default\" data-toggle=\"collapse\">Click here for the solution</a>\n",
    "</div>\n",
    "\n",
    "\n",
    "<div id=\"placeholder\" class=\"collapse\">\n",
    "```\n",
    "\n",
    "a=tf.placeholder(tf.float32)\n",
    "b=tf.placeholder(tf.float32)\n",
    "\n",
    "c=2*a -b\n",
    "\n",
    "dictionary = {a:[2,2],b:[3,4]}\n",
    "with tf.Session() as session:\n",
    "\tprint session.run(c,feed_dict=dictionary)\n",
    "```\n",
    "</div>"
   ]
  },
  {
   "cell_type": "markdown",
   "metadata": {},
   "source": [
    "### Try changing our example with some other operations and see the result.\n",
    "\n",
    "<div class=\"alert alert-info alertinfo\">\n",
    "<font size = 3><strong>Some examples of functions:</strong></font>  \n",
    "<br>\n",
    "tf.multiply(x, y)<br />\n",
    "tf.div(x, y)<br />\n",
    "tf.square(x)<br />\n",
    "tf.sqrt(x)<br />\n",
    "tf.pow(x, y)<br />\n",
    "tf.exp(x)<br />\n",
    "tf.log(x)<br />\n",
    "tf.cos(x)<br />\n",
    "tf.sin(x)<br /> <br>\n",
    "\n",
    "You can also take a look at [more operations]( https://www.tensorflow.org/versions/r0.9/api_docs/python/math_ops.html)\n",
    "</div>"
   ]
  },
  {
   "cell_type": "code",
   "execution_count": null,
   "metadata": {
    "collapsed": true
   },
   "outputs": [],
   "source": [
    "a = tf.constant(5.)\n",
    "b = tf.constant(2.)"
   ]
  },
  {
   "cell_type": "markdown",
   "metadata": {},
   "source": [
    "create a variable named **`c`** to receive the result an operation (at your choice):"
   ]
  },
  {
   "cell_type": "code",
   "execution_count": null,
   "metadata": {
    "collapsed": true
   },
   "outputs": [],
   "source": [
    "#your code goes here\n",
    "\n"
   ]
  },
  {
   "cell_type": "markdown",
   "metadata": {},
   "source": [
    "\n",
    "<div align=\"right\">\n",
    "<a href=\"#operations\" class=\"btn btn-default\" data-toggle=\"collapse\">Click here for the solution</a>\n",
    "</div>\n",
    "\n",
    "\n",
    "<div id=\"operations\" class=\"collapse\">\n",
    "```\n",
    "c=tf.sin(a)\n",
    "```\n",
    "</div>"
   ]
  },
  {
   "cell_type": "code",
   "execution_count": null,
   "metadata": {
    "collapsed": true
   },
   "outputs": [],
   "source": [
    "with tf.Session() as session:\n",
    "    result = session.run(c)\n",
    "    print \"c =: {}\".format(result)"
   ]
  },
  {
   "cell_type": "markdown",
   "metadata": {},
   "source": [
    "They're really similar to mathematical functions the only difference is that operations works over tensors."
   ]
  },
  {
   "cell_type": "markdown",
   "metadata": {},
   "source": [
    "## Want to learn more?\n",
    "\n",
    "Running deep learning programs usually needs a high performance platform. PowerAI speeds up deep learning and AI. Built on IBM's Power Systems, PowerAI is a scalable software platform that accelerates deep learning and AI with blazing performance for individual users or enterprises. The PowerAI platform supports popular machine learning libraries and dependencies including Tensorflow, Caffe, Torch, and Theano. You can download a [free version of PowerAI](https://cocl.us/ML0120EN_PAI).\n",
    "\n",
    "Also, you can use Data Science Experience to run these notebooks faster with bigger datasets. Data Science Experience is IBM's leading cloud solution for data scientists, built by data scientists. With Jupyter notebooks, RStudio, Apache Spark and popular libraries pre-packaged in the cloud, DSX enables data scientists to collaborate on their projects without having to install anything. Join the fast-growing community of DSX users today with a free account at [Data Science Experience](https://cocl.us/ML0120EN_DSX)This is the end of this lesson. Hopefully, now you have a deeper and intuitive understanding regarding the LSTM model. Thank you for reading this notebook, and good luck on your studies."
   ]
  },
  {
   "cell_type": "markdown",
   "metadata": {
    "collapsed": true
   },
   "source": [
    "### Thanks for completing this lesson!\n"
   ]
  },
  {
   "cell_type": "code",
   "execution_count": null,
   "metadata": {
    "collapsed": true
   },
   "outputs": [],
   "source": []
  }
 ],
 "metadata": {
  "anaconda-cloud": {},
  "kernelspec": {
   "display_name": "Python 2",
   "language": "python",
   "name": "python2"
  },
  "language_info": {
   "codemirror_mode": {
    "name": "ipython",
    "version": 2
   },
   "file_extension": ".py",
   "mimetype": "text/x-python",
   "name": "python",
   "nbconvert_exporter": "python",
   "pygments_lexer": "ipython2",
   "version": "2.7.12"
  },
  "widgets": {
   "state": {},
   "version": "1.1.2"
  }
 },
 "nbformat": 4,
 "nbformat_minor": 1
}
